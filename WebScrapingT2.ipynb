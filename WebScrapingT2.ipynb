{
 "cells": [
  {
   "cell_type": "code",
   "execution_count": null,
   "metadata": {},
   "outputs": [],
   "source": [
    "from bs4 import BeautifulSoup\n",
    "from selenium import webdriver\n",
    "from selenium.common.exceptions import WebDriverException\n",
    "from datetime import date \n",
    "import time\n",
    "\n",
    "from pymongo import MongoClient"
   ]
  },
  {
   "cell_type": "code",
   "execution_count": null,
   "metadata": {},
   "outputs": [],
   "source": [
    "client = MongoClient('localhost', 27017)\n",
    "db = client['news']\n",
    "collection = db['elespectador']"
   ]
  },
  {
   "cell_type": "code",
   "execution_count": null,
   "metadata": {},
   "outputs": [],
   "source": [
    "ruta = \"C:/Users/Juan/Desktop/BigData-EP/webScrapingTaller2/chromedriver\"\n",
    "driver = webdriver.Chrome(ruta)"
   ]
  },
  {
   "cell_type": "code",
   "execution_count": null,
   "metadata": {},
   "outputs": [],
   "source": [
    "home_link = \"https://www.elespectador.com/\"\n",
    "driver.get(home_link)"
   ]
  },
  {
   "cell_type": "code",
   "execution_count": null,
   "metadata": {},
   "outputs": [],
   "source": [
    "def make_request(driver, relative_path):\n",
    "    # Making the request and rendering the browser\n",
    "    browser.get(site_url + relative_path)\n",
    "    \n",
    "    # Simulating vertical scrolling for handling lazy load\n",
    "    check_height = driver.execute_script('return document.body.scrollHeight;')\n",
    "    while True:\n",
    "        driver.execute_script('window.scrollTo(0, document.body.scrollHeight);')\n",
    "        time.sleep(3)\n",
    "        height = driver.execute_script('return document.body.scrollHeight;')\n",
    "        if height == check_height: \n",
    "            break \n",
    "        check_height = height\n",
    "\n",
    "        return BeatifulSoup(driver.page_source, 'html.parser')"
   ]
  },
  {
   "cell_type": "code",
   "execution_count": null,
   "metadata": {},
   "outputs": [],
   "source": [
    "soup = make_request(driver, '/archivo/politica/')"
   ]
  },
  {
   "cell_type": "code",
   "execution_count": null,
   "metadata": {},
   "outputs": [],
   "source": [
    "layout = soup.find(class_ = 'Layout-flexAds')"
   ]
  },
  {
   "cell_type": "code",
   "execution_count": null,
   "metadata": {},
   "outputs": [],
   "source": [
    "blocks = layout.find_all(class_ = 'Container Block', recursive = True)\n",
    "print(len(blocks))"
   ]
  },
  {
   "cell_type": "code",
   "execution_count": null,
   "metadata": {},
   "outputs": [],
   "source": [
    "cards = blocks[0].find_all(class_ = 'Card_rowCardLeft') + blocks[0].find_all(class_ = 'Card_rowCardLeft')\n",
    "len(cards)"
   ]
  },
  {
   "cell_type": "code",
   "execution_count": null,
   "metadata": {},
   "outputs": [],
   "source": [
    "news = []\n",
    "\n",
    "for card in cards:\n",
    "    news.append({\n",
    "        'title': card.find('h2', class_ = 'Card-Title').find('a').get_text(),\n",
    "        'relative_path': card.find('h2', class_ = 'Card-Title').find('a')['href']\n",
    "    })"
   ]
  },
  {
   "cell_type": "code",
   "execution_count": null,
   "metadata": {},
   "outputs": [],
   "source": [
    "news"
   ]
  },
  {
   "cell_type": "code",
   "execution_count": null,
   "metadata": {},
   "outputs": [],
   "source": [
    "for n in news:\n",
    "        \n",
    "    # Getting HTML content for each news page\n",
    "    soup = make_request(driver, n['relative_path'])\n",
    "    \n",
    "    # Extracting news metadata\n",
    "    n['datetime'] = soup.find(class_ = 'ArticleHeader-Date').get_text()\n",
    "    n['author'] = soup.find(class_ = 'ACredit-Author').find('a').get_text()\n",
    "    n['summary'] = soup.find(class_ = 'ArticleHeader-Hook').find('div').get_text()\n",
    "    \n",
    "    # Extracting and concatenating news full text\n",
    "    paragraphs = soup.find_all(class_ = 'font--secondary')\n",
    "    n['full_text'] = ' '.join([p.get_text() for p in paragraphs])"
   ]
  },
  {
   "cell_type": "code",
   "execution_count": null,
   "metadata": {},
   "outputs": [],
   "source": [
    "pg_amount = 5   \n",
    "for i in range(0, pg_amount):\n",
    "    page = BeautifulSoup(driver.page_source,'html.parser')\n",
    "    \n",
    "    next_btn = driver.find_element_by_css_selector('.Pagination-Nav')\n",
    "    next_btn.click()\n",
    "    time.sleep(2)"
   ]
  },
  {
   "cell_type": "code",
   "execution_count": null,
   "metadata": {},
   "outputs": [],
   "source": [
    "next_btn = driver.find_element_by_css_selector('.Pagination-Nav')\n",
    "next_btn.click()\n",
    "time.sleep(2)"
   ]
  }
 ],
 "metadata": {
  "kernelspec": {
   "display_name": "Python 3",
   "language": "python",
   "name": "python3"
  },
  "language_info": {
   "codemirror_mode": {
    "name": "ipython",
    "version": 3
   },
   "file_extension": ".py",
   "mimetype": "text/x-python",
   "name": "python",
   "nbconvert_exporter": "python",
   "pygments_lexer": "ipython3",
   "version": "3.8.3"
  }
 },
 "nbformat": 4,
 "nbformat_minor": 4
}
